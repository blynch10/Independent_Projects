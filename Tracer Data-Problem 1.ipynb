{
 "cells": [
  {
   "cell_type": "code",
   "execution_count": 36,
   "metadata": {},
   "outputs": [],
   "source": [
    "import pandas as pd\n",
    "source = pd.read_csv (r'C:\\Users\\blync\\Downloads\\source.csv')\n",
    "source1 = pd.read_csv (r'C:\\Users\\blync\\Downloads\\source1.csv')"
   ]
  },
  {
   "cell_type": "code",
   "execution_count": 37,
   "metadata": {},
   "outputs": [],
   "source": [
    "merged1 = source.merge(source1, on='campaign_id', how='outer')\n"
   ]
  },
  {
   "cell_type": "code",
   "execution_count": 38,
   "metadata": {},
   "outputs": [
    {
     "name": "stdout",
     "output_type": "stream",
     "text": [
      "                                campaign_id ad_type        date  spend  \\\n",
      "0      856c435c-2dd1-42dd-ad40-b4d3c24d99d9   photo  2017-06-21  943.0   \n",
      "1      856c435c-2dd1-42dd-ad40-b4d3c24d99d9   photo  2017-06-15  457.0   \n",
      "2      856c435c-2dd1-42dd-ad40-b4d3c24d99d9   video  2017-06-17  651.0   \n",
      "3      b9c9bcb5-505e-4a39-8c17-51a7941b3fea   photo  2017-06-19  403.0   \n",
      "4      b9c9bcb5-505e-4a39-8c17-51a7941b3fea   photo  2017-06-19  403.0   \n",
      "...                                     ...     ...         ...    ...   \n",
      "18058  7c400367-9f98-4be9-8ed7-112bf09ccfa7     NaN         NaN    NaN   \n",
      "18059  6f64043d-4700-49ca-bc6d-178be351f624     NaN         NaN    NaN   \n",
      "18060  fc725c9e-729c-4c15-8e0a-d785579df658     NaN         NaN    NaN   \n",
      "18061  ad9d8a65-39e7-45b4-b422-20e4e114a8d9     NaN         NaN    NaN   \n",
      "18062  51be1709-d4ee-4558-b46c-8fafc9b22c21     NaN         NaN    NaN   \n",
      "\n",
      "                                                 actions  impressions State  \\\n",
      "0                         [{\"A\": 47, \"action\": \"views\"}]         1471    RI   \n",
      "1      [{\"B\": 82, \"action\": \"junk\"}, {\"D\": 85, \"actio...         1471    RI   \n",
      "2      [{\"A\": 35, \"action\": \"conversions\"}, {\"J\": 29,...         1471    RI   \n",
      "3      [{\"K\": 70, \"action\": \"conversions\"}, {\"J\": 83,...         8686    OK   \n",
      "4      [{\"K\": 70, \"action\": \"conversions\"}, {\"J\": 83,...         7539    OK   \n",
      "...                                                  ...          ...   ...   \n",
      "18058                                                NaN         4072    KY   \n",
      "18059                                                NaN         7220    NY   \n",
      "18060                                                NaN         1718    VT   \n",
      "18061                                                NaN         8707    CA   \n",
      "18062                                                NaN         3637    TX   \n",
      "\n",
      "      Hair_Color Age Range  \n",
      "0          green     42-47  \n",
      "1          green     42-47  \n",
      "2          green     42-47  \n",
      "3          brown     60-65  \n",
      "4          brown     60-65  \n",
      "...          ...       ...  \n",
      "18058     orange     60-65  \n",
      "18059     purple     57-62  \n",
      "18060     purple     21-26  \n",
      "18061      brown     21-26  \n",
      "18062      green     24-29  \n",
      "\n",
      "[18063 rows x 9 columns]\n"
     ]
    }
   ],
   "source": [
    "merged1['State'] = merged1.audience.str.split(\"_\").str[0]\n",
    "merged1['Hair_Color'] = merged1.audience.str.split(\"_\").str[1]\n",
    "merged1['Age Range'] = merged1.audience.str.split(\"_\").str[2]\n",
    "merged1.drop(['audience'], axis=1, inplace=True)\n",
    "print(merged1)"
   ]
  },
  {
   "cell_type": "code",
   "execution_count": 39,
   "metadata": {},
   "outputs": [
    {
     "name": "stdout",
     "output_type": "stream",
     "text": [
      "       spend Hair_Color\n",
      "0      943.0      green\n",
      "1      457.0      green\n",
      "2      651.0      green\n",
      "3      403.0      brown\n",
      "4      403.0      brown\n",
      "...      ...        ...\n",
      "18058    NaN     orange\n",
      "18059    NaN     purple\n",
      "18060    NaN     purple\n",
      "18061    NaN      brown\n",
      "18062    NaN      green\n",
      "\n",
      "[18063 rows x 2 columns]\n"
     ]
    }
   ],
   "source": [
    "purple_hair = merged1[['spend','Hair_Color']]\n",
    "print(purple_hair)"
   ]
  },
  {
   "cell_type": "code",
   "execution_count": 41,
   "metadata": {},
   "outputs": [
    {
     "name": "stdout",
     "output_type": "stream",
     "text": [
      "       spend Hair_Color\n",
      "21     202.0     purple\n",
      "22     924.0     purple\n",
      "23     498.0     purple\n",
      "24     472.0     purple\n",
      "25     620.0     purple\n",
      "...      ...        ...\n",
      "18001    NaN     purple\n",
      "18006    NaN     purple\n",
      "18040    NaN     purple\n",
      "18059    NaN     purple\n",
      "18060    NaN     purple\n",
      "\n",
      "[2072 rows x 2 columns]\n"
     ]
    }
   ],
   "source": [
    "purple_hair_2 = purple_hair.drop(purple_hair[purple_hair.Hair_Color != 'purple'].index)\n",
    "print(purple_hair_2)\n",
    "                                "
   ]
  },
  {
   "cell_type": "code",
   "execution_count": 58,
   "metadata": {},
   "outputs": [
    {
     "name": "stdout",
     "output_type": "stream",
     "text": [
      "       spend Hair_Color\n",
      "21     202.0     purple\n",
      "22     924.0     purple\n",
      "23     498.0     purple\n",
      "24     472.0     purple\n",
      "25     620.0     purple\n",
      "...      ...        ...\n",
      "18001    0.0     purple\n",
      "18006    0.0     purple\n",
      "18040    0.0     purple\n",
      "18059    0.0     purple\n",
      "18060    0.0     purple\n",
      "\n",
      "[2072 rows x 2 columns]\n",
      "spend                                                    926121\n",
      "Hair_Color    purplepurplepurplepurplepurplepurplepurplepurp...\n",
      "dtype: object\n"
     ]
    }
   ],
   "source": [
    "purple_hair_2.fillna(0, inplace=True)\n",
    "print(purple_hair_2)\n",
    "total_spent = purple_hair_2.sum()\n",
    "print(total_spent)"
   ]
  }
 ],
 "metadata": {
  "kernelspec": {
   "display_name": "Python 3",
   "language": "python",
   "name": "python3"
  },
  "language_info": {
   "codemirror_mode": {
    "name": "ipython",
    "version": 3
   },
   "file_extension": ".py",
   "mimetype": "text/x-python",
   "name": "python",
   "nbconvert_exporter": "python",
   "pygments_lexer": "ipython3",
   "version": "3.7.6"
  }
 },
 "nbformat": 4,
 "nbformat_minor": 4
}
