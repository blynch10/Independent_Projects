{
 "cells": [
  {
   "cell_type": "code",
   "execution_count": 135,
   "metadata": {},
   "outputs": [
    {
     "name": "stdout",
     "output_type": "stream",
     "text": [
      "                                      date\n",
      "campaign_id                               \n",
      "0105d0a7-bc22-4ac5-9091-3ce59ecaf0f7     5\n",
      "014f2c85-8cbb-4874-8dc3-83e4d629a532     6\n",
      "01593318-80bf-45f9-aa4e-ac6ecb4441f4     5\n",
      "08621a53-33a8-4aca-a51e-ac9a66f1fc25     5\n",
      "09a45f25-8df4-44c2-bcfe-22178ff0de56     5\n",
      "...                                    ...\n",
      "f730514a-29ea-4341-9e9f-139b1a65ce43     5\n",
      "f7c5829f-ad97-4fa9-b8a1-5cf6f2ddbb90     5\n",
      "fb70c205-ff51-4f84-818e-17b169c0d468     5\n",
      "fd78f92c-958f-4127-bec6-bc504c21a0f2     5\n",
      "fde9b592-424f-48f3-ba78-6a01f205fd95     5\n",
      "\n",
      "[83 rows x 1 columns]\n"
     ]
    }
   ],
   "source": [
    "import pandas as pd\n",
    "source = pd.read_csv (r'C:\\Users\\blync\\Downloads\\source.csv')\n",
    "source1 = pd.read_csv (r'C:\\Users\\blync\\Downloads\\source1.csv')\n",
    "merged1 = source.merge(source1, on='campaign_id', how='outer')\n",
    "merged2 = merged1[['campaign_id', 'date']]\n",
    "merged3 = merged2.dropna()\n",
    "merged4 = merged3.sort_values(by='campaign_id')\n",
    "merged5 = merged4.drop_duplicates(subset=['campaign_id', 'date'], keep='last')\n",
    "pivot_table = merged5.pivot_table(index=['campaign_id'], aggfunc='count')\n",
    "rows_to_drop = pivot_table[pivot_table['date']<5].index\n",
    "pivot_table.drop(rows_to_drop, inplace = True)\n",
    "print(pivot_table)"
   ]
  },
  {
   "cell_type": "code",
   "execution_count": 129,
   "metadata": {},
   "outputs": [
    {
     "name": "stdout",
     "output_type": "stream",
     "text": [
      "                                campaign_id        date\n",
      "0      856c435c-2dd1-42dd-ad40-b4d3c24d99d9  2017-06-21\n",
      "1      856c435c-2dd1-42dd-ad40-b4d3c24d99d9  2017-06-15\n",
      "2      856c435c-2dd1-42dd-ad40-b4d3c24d99d9  2017-06-17\n",
      "3      b9c9bcb5-505e-4a39-8c17-51a7941b3fea  2017-06-19\n",
      "4      b9c9bcb5-505e-4a39-8c17-51a7941b3fea  2017-06-19\n",
      "...                                     ...         ...\n",
      "18058  7c400367-9f98-4be9-8ed7-112bf09ccfa7         NaN\n",
      "18059  6f64043d-4700-49ca-bc6d-178be351f624         NaN\n",
      "18060  fc725c9e-729c-4c15-8e0a-d785579df658         NaN\n",
      "18061  ad9d8a65-39e7-45b4-b422-20e4e114a8d9         NaN\n",
      "18062  51be1709-d4ee-4558-b46c-8fafc9b22c21         NaN\n",
      "\n",
      "[18063 rows x 2 columns]\n"
     ]
    }
   ],
   "source": [
    "merged2 = merged1[['campaign_id', 'date']]\n",
    "print(merged2)"
   ]
  },
  {
   "cell_type": "code",
   "execution_count": 130,
   "metadata": {},
   "outputs": [
    {
     "name": "stdout",
     "output_type": "stream",
     "text": [
      "                                campaign_id        date\n",
      "0      856c435c-2dd1-42dd-ad40-b4d3c24d99d9  2017-06-21\n",
      "1      856c435c-2dd1-42dd-ad40-b4d3c24d99d9  2017-06-15\n",
      "2      856c435c-2dd1-42dd-ad40-b4d3c24d99d9  2017-06-17\n",
      "3      b9c9bcb5-505e-4a39-8c17-51a7941b3fea  2017-06-19\n",
      "4      b9c9bcb5-505e-4a39-8c17-51a7941b3fea  2017-06-19\n",
      "...                                     ...         ...\n",
      "16196  38dcf1ca-4335-4b64-a60d-c807ac1b4b32  2017-06-21\n",
      "16197  38dcf1ca-4335-4b64-a60d-c807ac1b4b32  2017-06-21\n",
      "16198  68af7777-16f9-460f-9484-a16469e79fb9  2017-06-22\n",
      "16199  68af7777-16f9-460f-9484-a16469e79fb9  2017-06-22\n",
      "16200  68af7777-16f9-460f-9484-a16469e79fb9  2017-06-22\n",
      "\n",
      "[16201 rows x 2 columns]\n"
     ]
    }
   ],
   "source": [
    "merged3 = merged2.dropna()\n",
    "print(merged3)"
   ]
  },
  {
   "cell_type": "code",
   "execution_count": 131,
   "metadata": {},
   "outputs": [
    {
     "name": "stdout",
     "output_type": "stream",
     "text": [
      "                                campaign_id        date\n",
      "3500   0003b98a-a5e6-43cd-bf12-cabc54e662ac  2017-06-22\n",
      "3501   0003b98a-a5e6-43cd-bf12-cabc54e662ac  2017-06-22\n",
      "14395  0012248f-3248-4702-9eeb-dd044feb12e9  2017-06-19\n",
      "14945  0018d9df-195d-44f4-b7b8-f177597fe277  2017-06-22\n",
      "14946  0018d9df-195d-44f4-b7b8-f177597fe277  2017-06-22\n",
      "...                                     ...         ...\n",
      "9280   ffe98e2b-eabc-430c-9c43-e5b42243f1ee  2017-06-19\n",
      "9279   ffe98e2b-eabc-430c-9c43-e5b42243f1ee  2017-06-19\n",
      "5707   fff1234e-ba73-40e1-9c50-4cc789787e0e  2017-06-18\n",
      "5708   fff1234e-ba73-40e1-9c50-4cc789787e0e  2017-06-16\n",
      "5706   fff1234e-ba73-40e1-9c50-4cc789787e0e  2017-06-20\n",
      "\n",
      "[16201 rows x 2 columns]\n"
     ]
    }
   ],
   "source": [
    "merged4 = merged3.sort_values(by='campaign_id')\n",
    "print(merged4)"
   ]
  },
  {
   "cell_type": "code",
   "execution_count": 132,
   "metadata": {},
   "outputs": [
    {
     "name": "stdout",
     "output_type": "stream",
     "text": [
      "                                campaign_id        date\n",
      "3501   0003b98a-a5e6-43cd-bf12-cabc54e662ac  2017-06-22\n",
      "14395  0012248f-3248-4702-9eeb-dd044feb12e9  2017-06-19\n",
      "14946  0018d9df-195d-44f4-b7b8-f177597fe277  2017-06-22\n",
      "11530  002967f4-7264-4cdc-b365-36908daec74e  2017-06-15\n",
      "14551  003b5432-b2de-4352-b596-0a8076a314b0  2017-06-18\n",
      "...                                     ...         ...\n",
      "15012  ffe24141-061b-4b3d-bab3-6cbc2080f4ce  2017-06-23\n",
      "9279   ffe98e2b-eabc-430c-9c43-e5b42243f1ee  2017-06-19\n",
      "5707   fff1234e-ba73-40e1-9c50-4cc789787e0e  2017-06-18\n",
      "5708   fff1234e-ba73-40e1-9c50-4cc789787e0e  2017-06-16\n",
      "5706   fff1234e-ba73-40e1-9c50-4cc789787e0e  2017-06-20\n",
      "\n",
      "[9598 rows x 2 columns]\n"
     ]
    }
   ],
   "source": [
    "merged5=merged4.drop_duplicates(subset=['campaign_id', 'date'], keep='last')\n",
    "print(merged5)"
   ]
  },
  {
   "cell_type": "code",
   "execution_count": 133,
   "metadata": {},
   "outputs": [
    {
     "name": "stdout",
     "output_type": "stream",
     "text": [
      "                                      date\n",
      "campaign_id                               \n",
      "0003b98a-a5e6-43cd-bf12-cabc54e662ac     1\n",
      "0012248f-3248-4702-9eeb-dd044feb12e9     1\n",
      "0018d9df-195d-44f4-b7b8-f177597fe277     1\n",
      "002967f4-7264-4cdc-b365-36908daec74e     1\n",
      "003b5432-b2de-4352-b596-0a8076a314b0     1\n",
      "...                                    ...\n",
      "ffbeb8f6-118a-43e3-a6a5-93135f38013e     1\n",
      "ffd29eba-e8da-450d-8ba9-f58b96af563d     1\n",
      "ffe24141-061b-4b3d-bab3-6cbc2080f4ce     1\n",
      "ffe98e2b-eabc-430c-9c43-e5b42243f1ee     1\n",
      "fff1234e-ba73-40e1-9c50-4cc789787e0e     3\n",
      "\n",
      "[4997 rows x 1 columns]\n"
     ]
    }
   ],
   "source": [
    "pivot_table=merged5.pivot_table(index=['campaign_id'], aggfunc='count')\n",
    "print(pivot_table)"
   ]
  },
  {
   "cell_type": "code",
   "execution_count": 134,
   "metadata": {},
   "outputs": [
    {
     "name": "stdout",
     "output_type": "stream",
     "text": [
      "                                      date\n",
      "campaign_id                               \n",
      "0105d0a7-bc22-4ac5-9091-3ce59ecaf0f7     5\n",
      "014f2c85-8cbb-4874-8dc3-83e4d629a532     6\n",
      "01593318-80bf-45f9-aa4e-ac6ecb4441f4     5\n",
      "08621a53-33a8-4aca-a51e-ac9a66f1fc25     5\n",
      "09a45f25-8df4-44c2-bcfe-22178ff0de56     5\n",
      "...                                    ...\n",
      "f730514a-29ea-4341-9e9f-139b1a65ce43     5\n",
      "f7c5829f-ad97-4fa9-b8a1-5cf6f2ddbb90     5\n",
      "fb70c205-ff51-4f84-818e-17b169c0d468     5\n",
      "fd78f92c-958f-4127-bec6-bc504c21a0f2     5\n",
      "fde9b592-424f-48f3-ba78-6a01f205fd95     5\n",
      "\n",
      "[83 rows x 1 columns]\n"
     ]
    }
   ],
   "source": [
    "rows_to_drop = pivot_table[pivot_table['date']<5].index\n",
    "pivot_table.drop(rows_to_drop, inplace = True)\n",
    "print(pivot_table)"
   ]
  }
 ],
 "metadata": {
  "kernelspec": {
   "display_name": "Python 3",
   "language": "python",
   "name": "python3"
  },
  "language_info": {
   "codemirror_mode": {
    "name": "ipython",
    "version": 3
   },
   "file_extension": ".py",
   "mimetype": "text/x-python",
   "name": "python",
   "nbconvert_exporter": "python",
   "pygments_lexer": "ipython3",
   "version": "3.7.6"
  }
 },
 "nbformat": 4,
 "nbformat_minor": 4
}
